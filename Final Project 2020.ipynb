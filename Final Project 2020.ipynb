{
 "cells": [
  {
   "cell_type": "markdown",
   "metadata": {},
   "source": [
    "### Higher Diploma in Science - Data Analytics 2020/21\n",
    "\n",
    "### Fundamentals of Data Analysis Project\n",
    "\n",
    "#### Prepared by: Fiona Lee \n",
    "#### Due Date - 8 January 2021\n"
   ]
  },
  {
   "cell_type": "markdown",
   "metadata": {},
   "source": [
    "<BR>"
   ]
  },
  {
   "cell_type": "markdown",
   "metadata": {},
   "source": [
    "### Fundamentals of Data Analysis - Project Instructions:\n",
    "\n",
    "In  this  project  you  must  perform  and  explain  simple  linear  regression  using  Python on the power production dataset available on Moodle.  \n",
    "\n",
    "The goal is to accurately predict wind turbine power output from wind speed values using the data set as a basis.\n",
    "\n",
    "Your submission must be in the form of a git repository containing, at a minimum, thefollowing items:\n",
    "\n",
    "1.  Jupyter notebook that performs simple linear regression on the data set.\n",
    "2.  In that notebook, an explanation of your regression and an analysis of its accuracy.\n",
    "3.  Standard items in a git repository such as a README.\n",
    "\n",
    "To enhance your submission, you might consider comparing simple linear regression to other types of regression on this data set. "
   ]
  },
  {
   "cell_type": "markdown",
   "metadata": {},
   "source": [
    "### Import Modules \n",
    "***"
   ]
  },
  {
   "cell_type": "code",
   "execution_count": null,
   "metadata": {},
   "outputs": [],
   "source": [
    "import pandas as pd\n",
    "import seaborn as sns\n",
    "import numpy as np\n",
    "import matplotlib.pyplot as plt\n",
    "from pandas import DataFrame\n",
    "from sklearn.metrics import r2_score \n",
    "from sklearn import linear_model\n",
    "from sklearn.linear_model import LinearRegression\n",
    "%matplotlib inline"
   ]
  },
  {
   "cell_type": "markdown",
   "metadata": {},
   "source": [
    "<BR>"
   ]
  },
  {
   "cell_type": "markdown",
   "metadata": {},
   "source": [
    "### Import & Check the Dataset\n",
    "***"
   ]
  },
  {
   "cell_type": "markdown",
   "metadata": {},
   "source": [
    "#### Import the Dataset"
   ]
  },
  {
   "cell_type": "code",
   "execution_count": null,
   "metadata": {
    "scrolled": true
   },
   "outputs": [],
   "source": [
    "df = pd.read_csv('Wind-Power.csv')\n",
    "pd.set_option('max_colwidth',100)"
   ]
  },
  {
   "cell_type": "markdown",
   "metadata": {},
   "source": [
    "#### Check if characters in the data imported are the same type"
   ]
  },
  {
   "cell_type": "code",
   "execution_count": null,
   "metadata": {},
   "outputs": [],
   "source": [
    "df.dtypes"
   ]
  },
  {
   "cell_type": "markdown",
   "metadata": {},
   "source": [
    "#### Check if there are any empty cells in the dataframe"
   ]
  },
  {
   "cell_type": "code",
   "execution_count": null,
   "metadata": {},
   "outputs": [],
   "source": [
    "pd.set_option(\"display.max_rows\",500)# Option to display all entries\n",
    "df.style.highlight_null(null_color='red'); #highlight any null values in red\n",
    "\n",
    "#Option to print the dataset\n",
    "#print(df.isnull())  \n",
    "\n",
    "#Alternative method (https://stackoverflow.com/questions/30447083/python-pandas-return-only-those-rows-which-have-missing-values)\n",
    "#df[pd.isnull(df).any(axis=1)]\n",
    "\n",
    "#*Note not printed due to the size of the dateset.  No null values noted*"
   ]
  },
  {
   "cell_type": "markdown",
   "metadata": {},
   "source": [
    "#### Check for corrupt data"
   ]
  },
  {
   "cell_type": "code",
   "execution_count": null,
   "metadata": {},
   "outputs": [],
   "source": [
    "print (\"power shape = \",df.shape)"
   ]
  },
  {
   "cell_type": "markdown",
   "metadata": {},
   "source": [
    "#### Re-name the columns from the original dataset"
   ]
  },
  {
   "cell_type": "code",
   "execution_count": null,
   "metadata": {},
   "outputs": [],
   "source": [
    "#Re-name the columns from the original dataset\n",
    "df.rename(columns={'speed':'Speed_Mph'},inplace = True)\n",
    "df.rename(columns={'power':'Power_KWph'},inplace = True)"
   ]
  },
  {
   "cell_type": "markdown",
   "metadata": {},
   "source": [
    "<BR>"
   ]
  },
  {
   "cell_type": "markdown",
   "metadata": {},
   "source": [
    "### Review the Data\n",
    "***"
   ]
  },
  {
   "cell_type": "markdown",
   "metadata": {},
   "source": [
    "#### Show the entire dataset sorted by 'Speed_Mph'"
   ]
  },
  {
   "cell_type": "code",
   "execution_count": null,
   "metadata": {},
   "outputs": [],
   "source": [
    "pd.set_option(\"display.max_rows\", None)#Show the entire dataset\n",
    "pd.set_option(\"display.precision\", 3) #Round the results to 3 decimal places\n",
    "df.sort_values(by =['Speed_Mph'], inplace=True, ascending=True)#Sort the dataset in ascending order\n",
    "#https://datatofish.com/sort-pandas-dataframe/\n",
    "df.style.set_properties(subset = [\"Power KWph\", \"Speed Mph\"], **{'text-align': 'center'})\n",
    "#https://www.kite.com/python/answers/how-to-print-an-entire-pandas-dataframe-in-python\n",
    "pd.set_option('expand_frame_repr', False) #print dataframe on a single line\n",
    "#https://stackoverflow.com/questions/39482722/how-to-print-dataframe-on-single-line\n",
    "#print((df[['Speed_Mph','Power_KWph','Power:Speed','Classification']]).head(10))"
   ]
  },
  {
   "cell_type": "markdown",
   "metadata": {},
   "source": [
    "#### Option to Print the Dataset"
   ]
  },
  {
   "cell_type": "code",
   "execution_count": null,
   "metadata": {},
   "outputs": [],
   "source": [
    "df.head(5)"
   ]
  },
  {
   "cell_type": "markdown",
   "metadata": {},
   "source": [
    "<BR>"
   ]
  },
  {
   "cell_type": "markdown",
   "metadata": {},
   "source": [
    "### Add Classification Columns\n",
    "***"
   ]
  },
  {
   "cell_type": "markdown",
   "metadata": {},
   "source": [
    "#### Create a New Column called 'Power:Speed'"
   ]
  },
  {
   "cell_type": "code",
   "execution_count": null,
   "metadata": {},
   "outputs": [],
   "source": [
    "df['Power:Speed'] = (df ['Power_KWph'] / df ['Speed_Mph']) #Add Power/Speed Column\n",
    "pd.set_option(\"display.precision\", 3)\n",
    "df.style.set_properties(subset=[\"Power_KWph\", \"Speed_Mph\"], **{'text-align': 'centre'});\n",
    "#https://www.codegrepper.com/code-examples/python/how+to+align+column+name+to+center+in+pandas+dataframe"
   ]
  },
  {
   "cell_type": "markdown",
   "metadata": {},
   "source": [
    "#### Create a New Column called 'Optimum Ratio' based on the 'Power:Speed' Ratio"
   ]
  },
  {
   "cell_type": "code",
   "execution_count": null,
   "metadata": {},
   "outputs": [],
   "source": [
    "def Optimum(row):\n",
    "\n",
    "    if row['Power:Speed'] ==0 and row['Speed_Mph'] > 8:\n",
    "        return 'Assumed Out of Order'\n",
    "    if row['Power:Speed'] ==0 and row['Speed_Mph'] < 8:\n",
    "        return 'Zero Output - Low Wind Speed (< 8mph)'\n",
    "    if row['Speed_Mph']== 0 and row['Power_KWph'] == 0:\n",
    "        return 'Test'\n",
    "    if row['Power:Speed'] > 0 and row['Power:Speed'] < 6 and row['Speed_Mph'] < 8:\n",
    "        return 'Sub Optimum Power:Speed - Low Wind Speed (<8 mph)' \n",
    "    if row['Power:Speed'] > 0 and row['Power:Speed'] < 6 and row['Speed_Mph'] >= 8:\n",
    "        return 'Sub Optimum Power:Speed - Wind Speed > 8 mph'     \n",
    "    if row['Power:Speed'] >= 6 and row['Power:Speed'] <= 8:\n",
    "        return 'Optimum Output: Power:Speed (6-8)'         \n",
    "    if row['Power:Speed'] > 8 and row['Speed_Mph'] < 8 :\n",
    "        return 'Exceptional Output: Wind Speed ( < 8mph)'    \n",
    "    if row['Power:Speed'] > 8 and row['Speed_Mph'] >= 8:\n",
    "        return '> Optimum'             \n",
    "    else:\n",
    "        return 'null'\n"
   ]
  },
  {
   "cell_type": "markdown",
   "metadata": {},
   "source": [
    "#### Populate the 'Optimum_Ratio' Column  "
   ]
  },
  {
   "cell_type": "code",
   "execution_count": null,
   "metadata": {},
   "outputs": [],
   "source": [
    "df['Classification'] = df.apply(lambda row: Optimum(row), axis=1) "
   ]
  },
  {
   "cell_type": "markdown",
   "metadata": {},
   "source": [
    "<BR>"
   ]
  },
  {
   "cell_type": "markdown",
   "metadata": {},
   "source": [
    "### Summarise the Data\n",
    "***"
   ]
  },
  {
   "cell_type": "markdown",
   "metadata": {},
   "source": [
    "#### Show basic summary information"
   ]
  },
  {
   "cell_type": "code",
   "execution_count": null,
   "metadata": {},
   "outputs": [],
   "source": [
    "pd.set_option(\"display.precision\", 1)\n",
    "# https://realpython.com/pandas-groupby/\n",
    "df.describe()"
   ]
  },
  {
   "cell_type": "markdown",
   "metadata": {},
   "source": [
    "#### Summarise the Data by Power:Speed Classification"
   ]
  },
  {
   "cell_type": "code",
   "execution_count": null,
   "metadata": {},
   "outputs": [],
   "source": [
    "df.style.set_properties(subset = ['Classification','Power_KWph'], **{'text-align': 'left'})\n",
    "print(df[['Classification','Power_KWph']].groupby(['Classification']).count(),\"\\n\")"
   ]
  },
  {
   "cell_type": "markdown",
   "metadata": {},
   "source": [
    "<BR>"
   ]
  },
  {
   "cell_type": "markdown",
   "metadata": {},
   "source": [
    "### Identify Trends & Remove Outliers:\n",
    "***"
   ]
  },
  {
   "cell_type": "markdown",
   "metadata": {},
   "source": [
    "#### Group Results by Power Output Value"
   ]
  },
  {
   "cell_type": "code",
   "execution_count": null,
   "metadata": {
    "scrolled": true
   },
   "outputs": [],
   "source": [
    "print(\"\")\n",
    "pd.set_option(\"display.precision\", 2)\n",
    "# https://realpython.com/pandas-groupby/\n",
    "df.style.set_properties(subset = [\"Power_KWph\", \"Speed_Mph\"], **{'text-align': 'center'});\n",
    "\n",
    "#Option to print the analysis\n",
    "#df.groupby(['Power_KWph']).agg(['count'])\n",
    "\n",
    "#Note - Results not shown due to size - summary of findings below"
   ]
  },
  {
   "cell_type": "markdown",
   "metadata": {},
   "source": [
    "#### Summary of Findings:"
   ]
  },
  {
   "cell_type": "markdown",
   "metadata": {},
   "source": [
    "49 Samples had a 'Power Output' of Zero (See below for analysis):\n",
    "\n",
    "- 14 samples were identified as being 'outliers' i.e. where wind speed was in excess of 8 mph and power output was zero.  These samples were removed as it can be assumed that the turbine was out of order.  These samples were classed as 'Assumed Out of Order'  \n",
    "\n",
    "- 1 sample was removed where both power output and wind speed were zero.  This was classed as a 'Test' and has been excluded.\n",
    "\n",
    "- 34 samples were identified where power output was zero at wind speeds less than 8mph.  It has been assumed that this is normal and should be part of the prediction model.\n",
    "\n",
    "10 Results where Power:Speed Ratio was in excess of 8 at low wind speeds (<8 mph)(See below for analysis):\n",
    "\n",
    "- These samples could be classed as further  possible 'outliers ' as they are exceptional results and potentially incorrect records.  Without further invesigation I decided not to exclude them for the purposes of this analysis."
   ]
  },
  {
   "cell_type": "markdown",
   "metadata": {},
   "source": [
    "#### Analysis of 49 Results where Power Output was Zero"
   ]
  },
  {
   "cell_type": "code",
   "execution_count": null,
   "metadata": {
    "scrolled": true
   },
   "outputs": [],
   "source": [
    "df.sort_values(by=['Speed_Mph'], inplace=True, ascending=True)#Sort the dataset in descending order\n",
    "\n",
    "#Option to print the dataset subset where Power_KWph = 0\n",
    "df[df['Power_KWph'] == 0]\n"
   ]
  },
  {
   "cell_type": "markdown",
   "metadata": {},
   "source": [
    "#### Analysis of 10 Possible Outliers (not Excluded)"
   ]
  },
  {
   "cell_type": "code",
   "execution_count": null,
   "metadata": {},
   "outputs": [],
   "source": [
    "#df.loc[(df.Power:Speed > 0) & (df.Speed_Mph < 8)]\n",
    "df.loc[(df.Power_KWph/df.Speed_Mph > 8) & (df.Speed_Mph < 8)]"
   ]
  },
  {
   "cell_type": "markdown",
   "metadata": {},
   "source": [
    "### Remove Outlier Data from the Dataframe\n",
    "***"
   ]
  },
  {
   "cell_type": "markdown",
   "metadata": {},
   "source": [
    "#### Remove Rows where Power_KWph = 0 and Speed_Mph > 8 or Speed_Mph = 0"
   ]
  },
  {
   "cell_type": "code",
   "execution_count": null,
   "metadata": {},
   "outputs": [],
   "source": [
    "Out_of_Order = df.loc[(df.Power_KWph == 0) & (df.Speed_Mph > 8)] # identify rows where true\n",
    "df.drop(Out_of_Order.index, inplace=True)#Remove these rows from the existing dataset\n",
    "Test = df.loc[(df.Power_KWph == 0) & (df.Speed_Mph == 0)] # identify rows where true\n",
    "df.drop(Test.index, inplace=True) #Remove these rows from the existing dataset\n",
    "# https://www.shanelynn.ie/select-pandas-dataframe-rows-and-columns-using-iloc-loc-and-ix/"
   ]
  },
  {
   "cell_type": "markdown",
   "metadata": {},
   "source": [
    "<BR>"
   ]
  },
  {
   "cell_type": "markdown",
   "metadata": {},
   "source": [
    "### Visualise the Data\n",
    "***"
   ]
  },
  {
   "cell_type": "markdown",
   "metadata": {},
   "source": [
    "#### Plot the Dataset excluding Outliers"
   ]
  },
  {
   "cell_type": "code",
   "execution_count": null,
   "metadata": {},
   "outputs": [],
   "source": [
    "plt.figure(figsize = (8, 5)) \n",
    "plt.title('\\nRelationship between Wind Speed and Power Output\\n', fontsize = 14)\n",
    "plt.xticks([0, 2, 4, 6,8,10,12,14,16,18,20,22,24,26], size =14)\n",
    "plt.yticks([0, 10,20,30,40,50,60,70,80,90,100,110,120], size =14)\n",
    "plt.grid(True)\n",
    "plt.rcParams[\"axes.labelsize\"] = 14\n",
    "sns.lineplot (x=df.Speed_Mph,y=df.Power_KWph)\n",
    "plt.show()"
   ]
  },
  {
   "cell_type": "markdown",
   "metadata": {},
   "source": [
    "<BR>"
   ]
  },
  {
   "cell_type": "markdown",
   "metadata": {},
   "source": [
    "#### Plot the Frequency of Speed and Power"
   ]
  },
  {
   "cell_type": "code",
   "execution_count": null,
   "metadata": {},
   "outputs": [],
   "source": [
    "print (\"\")\n",
    "plt.figure(figsize = (10, 7)) \n",
    "x = df [\"Speed_Mph\"] \n",
    "plt.hist(x, bins = 20, color = \"blue\", rwidth = 0.95) \n",
    "plt.title(\"Speed Values Occurences in Wind Turbine Dataset\\n\", fontsize = 15) \n",
    "plt.xlabel(\"Speed\", fontsize = 15) \n",
    "plt.ylabel(\"Frequency\", fontsize = 15) \n",
    "plt.show()\n",
    "print (\"\")\n",
    "plt.figure(figsize = (10, 7)) \n",
    "x = df [\"Power_KWph\"] \n",
    "plt.hist(x, bins = 20, color = \"red\", rwidth = 0.95) \n",
    "plt.title(\"Power Value Occurences in Wind Turbine Dataset\\n\", fontsize = 15) \n",
    "plt.xlabel(\"Power\", fontsize = 15) \n",
    "plt.ylabel(\"Frequency\", fontsize = 15) \n",
    "plt.show()"
   ]
  },
  {
   "cell_type": "markdown",
   "metadata": {},
   "source": [
    "<BR>"
   ]
  },
  {
   "cell_type": "markdown",
   "metadata": {},
   "source": [
    "#### Plot Speed and Power Results on the Same Axis\n"
   ]
  },
  {
   "cell_type": "code",
   "execution_count": null,
   "metadata": {},
   "outputs": [],
   "source": [
    "#https://stackoverflow.com/questions/11640243/pandas-plot-multiple-y-axes\n",
    "print(\"\")\n",
    "plt.rcParams[\"axes.labelsize\"] = 8\n",
    "sns.set_style (\"whitegrid\")\n",
    "fig, ax = plt.subplots()\n",
    "rspine = ax.spines ['right']\n",
    "rspine.set_position (('axes', 1))\n",
    "ax.set_frame_on (True)\n",
    "ax.patch.set_visible (True)\n",
    "ax.grid(True)\n",
    "fig.subplots_adjust(right = 2)\n",
    "df.Power_KWph.plot(ax = ax, style = 'b.',label = \"Power Produced\")\n",
    "plt.yticks([0,10,20,30,40,50,60,70,80,90,100,110,120],fontsize = 16)\n",
    "ax.legend(loc = 0)\n",
    "plt.xlabel(\"\\n Sample Number\",fontsize = 16)\n",
    "plt.ylabel(\"Power Produced (KWph) \\n\",fontsize = 16)\n",
    "\n",
    "# same ax as above since it's automatically added on the right\n",
    "df.Speed_Mph.plot(ax = ax, style = 'r.', label = \"Wind Speed\", secondary_y = True)\n",
    "plt.yticks([0, 2, 4, 6,8,10,12,14,16,18,20,22,24,26],fontsize = 16)\n",
    "plt.xticks([0,25, 50,75, 100, 125, 150, 175, 200, 225, 250, 275,300,325,350,375,400,425,450,475,500],fontsize = 16)\n",
    "plt.ylabel(\"\\n Wind Speed (Mph)\",fontsize = 16)\n",
    "plt.title(\"\\n Relationship between the rate of growth of Wind Speed vs. Power Produced by Wind Turbines \\n\\n\" , fontsize = 16)\n",
    "handles, labels = ax.get_legend_handles_labels()\n",
    "ax.legend(handles, labels)\n",
    "plt.legend (loc = \"center left\", frameon = True)\n",
    "bbox_to_anchor=(10, 500)\n",
    "plt.show()\n"
   ]
  },
  {
   "cell_type": "markdown",
   "metadata": {},
   "source": [
    "<BR>"
   ]
  },
  {
   "cell_type": "markdown",
   "metadata": {},
   "source": [
    "### Calculate Slope (m) and Co-efficient (c) Values\n",
    "***"
   ]
  },
  {
   "cell_type": "markdown",
   "metadata": {},
   "source": [
    "#### Polyfit Method"
   ]
  },
  {
   "cell_type": "code",
   "execution_count": null,
   "metadata": {},
   "outputs": [],
   "source": [
    "#https://github.com/ianmcloughlin/jupyter-teaching-notebooks/blob/master/simple-linear-regression.ipynb\n",
    "\n",
    "Polyfit = np.polyfit (df.Speed_Mph,df.Power_KWph,1)\n",
    "print ('\\nBest Fit Line Values:\\n')\n",
    "print (\"- 'm' (slope) of 'Best Fit Line' is\", round(Polyfit[0],6) )\n",
    "print (\"- 'c' (co-efficient) of 'Best Fit Line' is\", round(Polyfit[1],6),\"\\n\" )"
   ]
  },
  {
   "cell_type": "markdown",
   "metadata": {},
   "source": [
    "#### Alternative Manual Method"
   ]
  },
  {
   "cell_type": "code",
   "execution_count": null,
   "metadata": {},
   "outputs": [],
   "source": [
    "# First calculate the means of df.Speed_Mph and df.Power_KWph:\n",
    "Speed_Avg = np.mean(df.Speed_Mph)\n",
    "Power_Avg = np.mean(df.Power_KWph)\n",
    "\n",
    "# Subtract means from df.Speed_Mph and df.Power_KWph:\n",
    "Speed_Zero = df.Speed_Mph - Speed_Avg\n",
    "Power_Zero = df.Power_KWph - Power_Avg\n",
    "\n",
    "# The best m is found by the following calculation:\n",
    "m = np.sum(Speed_Zero * Power_Zero) / np.sum(Speed_Zero * Speed_Zero)\n",
    "\n",
    "# Use m from above to calculate the best c:\n",
    "c = Power_Avg - m * Speed_Avg\n",
    "\n",
    "print ('\\nBest Fit Line Values:\\n')\n",
    "print (\"- The slope of the 'Best Fit Line'(m)is\",(round(m,6)))\n",
    "print (\"- The value of y when x = 0 of the 'Best Fit' Line (c) is\",round(c,6),\"\\n\")"
   ]
  },
  {
   "cell_type": "markdown",
   "metadata": {},
   "source": [
    "#### Fitting the Model - Trial Lines"
   ]
  },
  {
   "cell_type": "code",
   "execution_count": null,
   "metadata": {},
   "outputs": [],
   "source": [
    "print (\"\")\n",
    "plt.rcParams[\"figure.figsize\"] = (28,24)\n",
    "#plt.figure(figsize = (8, 6)) \n",
    "sns.set_style (\"whitegrid\")\n",
    "#plt.plot (df2.Speed_Mph,df2.Power_KWph,'y.', label = r\"Actual Data\")\n",
    "sns.relplot(x = \"Speed_Mph\", y = 'Power_KWph', palette=\"muted\",height = 7, data=df)#data excluding power outages\n",
    "plt.title(\"Speed vs Power - Trial Lines\\n\\n\", fontsize = 16)\n",
    "plt.rcParams[\"axes.labelsize\"] = 14\n",
    "plt.xticks([0, 2, 4, 6,8,10,12,14,16,18,20,22,24,26], fontsize = 14)\n",
    "plt.yticks([0, 10,20,30,40,50,60,70,80,90,100,110,120], fontsize = 14);\n",
    "\n",
    "#Generate Trial Data to estimate the 'Best Fit Line'\n",
    "x = np.arange (0.0,25.0,(1/len(df.Speed_Mph)*25))\n",
    "plt.plot (x, 5.5 * x + 0.5, 'b-', label = r\"Trial Fit 1:5.5x + 0.5\")#Trial Fit 1\n",
    "plt.plot (x, 5 * x + 0.5, 'g-', label = r\"Trial Fit 2: 5x + 0.5\") #Trial Fit 2\n",
    "plt.plot (x, 4 * x + 5, 'r-', label = r\"Trial Fit 3: 4x + 5\")#Trial Fit 3\n",
    "plt.legend()\n",
    "plt.show()"
   ]
  },
  {
   "cell_type": "markdown",
   "metadata": {},
   "source": [
    "#### Fitting the Model - Best Fit Lines"
   ]
  },
  {
   "cell_type": "code",
   "execution_count": null,
   "metadata": {},
   "outputs": [],
   "source": [
    "print (\"\")\n",
    "plt.rcParams[\"figure.figsize\"] = (28,24)\n",
    "sns.set_style (\"whitegrid\")\n",
    "sns.relplot(x = \"Speed_Mph\", y = 'Power_KWph', palette=\"muted\",height = 7, data=df)#use data excluding power outages\n",
    "plt.title(\"Speed vs Power - 'Best Fit Line'\\n\\n\", fontsize = 16)\n",
    "plt.rcParams[\"axes.labelsize\"] = 14\n",
    "plt.xticks([0, 2, 4, 6,8,10,12,14,16,18,20,22,24,26], fontsize = 14)\n",
    "plt.yticks([0, 10,20,30,40,50,60,70,80,90,100,110,120], fontsize = 14);\n",
    "\n",
    "#Use the Polyfit results to generate the 'Best Fit Line' \n",
    "y = Polyfit[0] * x + Polyfit[1]\n",
    "plt.plot (x, y, 'k-', label = r\"Actual Best Fit: 5.56x = -19.02\")# Plot the best fit line.\n",
    "plt.legend()\n",
    "plt.show()"
   ]
  },
  {
   "cell_type": "markdown",
   "metadata": {},
   "source": [
    "#### Alternative Method of Finding the 'Best Fit' Line -  Scatterplot with a Regression Line:"
   ]
  },
  {
   "cell_type": "code",
   "execution_count": null,
   "metadata": {},
   "outputs": [],
   "source": [
    "#print (\"\")\n",
    "plt.rcParams[\"figure.figsize\"] = (12,8);\n",
    "plt.rcParams[\"axes.labelsize\"] = 14\n",
    "sns.set_style (\"whitegrid\");\n",
    "sns.lmplot(x=\"Speed_Mph\", y='Power_KWph', hue='Classification', palette=\"deep\", height = 7 ,data=df);\n",
    "plt.title(\"Speed vs Power\\n\\n\", fontsize = 16);\n",
    "plt.rcParams[\"axes.labelsize\"] = 16;\n",
    "plt.xticks([0, 2, 4, 6,8,10,12,14,16,18,20,22,24,26], fontsize = 14);\n",
    "plt.yticks([0, 10,20,30,40,50,60,70,80,90,100,110,120], fontsize = 14);\n",
    "plt.show()"
   ]
  },
  {
   "cell_type": "markdown",
   "metadata": {},
   "source": [
    "<BR>"
   ]
  },
  {
   "cell_type": "markdown",
   "metadata": {},
   "source": [
    "### Predict Expected Power based on a Given Speed\n",
    "***"
   ]
  },
  {
   "cell_type": "markdown",
   "metadata": {},
   "source": [
    "#### Using Numpy Poly1d Method"
   ]
  },
  {
   "cell_type": "code",
   "execution_count": null,
   "metadata": {},
   "outputs": [],
   "source": [
    "Predict = np.poly1d (Polyfit)\n",
    "#https://data36.com/linear-regression-in-python-numpy-polyfit/"
   ]
  },
  {
   "cell_type": "markdown",
   "metadata": {},
   "source": [
    "<BR>"
   ]
  },
  {
   "cell_type": "markdown",
   "metadata": {},
   "source": [
    "#### Insert Value for 'P' (Speed) to Predict Power Output"
   ]
  },
  {
   "cell_type": "code",
   "execution_count": null,
   "metadata": {},
   "outputs": [],
   "source": [
    "#Input the Value of Speed (S) \n",
    "\n",
    "S = 6  #P (Wind Speed) is a variable to predict Power Output \n",
    "\n",
    "print (\"\\nThe Predicted Power Output for a Wind Speed of\",S,\"Mph is\",round(Predict(S),2),\"KWph\\n\")"
   ]
  },
  {
   "cell_type": "markdown",
   "metadata": {},
   "source": [
    "#### Manual Calculation of Power Output"
   ]
  },
  {
   "cell_type": "code",
   "execution_count": null,
   "metadata": {},
   "outputs": [],
   "source": [
    "#y = c + mx\n",
    "y = (c + 6*m) \n",
    "print (\"\\nThe Predicted Power Output for a Wind Speed of\",S,\"Mph is\",round(y,2),\"KWph\\n\")"
   ]
  },
  {
   "cell_type": "markdown",
   "metadata": {},
   "source": [
    "#### Alternative Method - Manual method using Polyfit Results:"
   ]
  },
  {
   "cell_type": "code",
   "execution_count": null,
   "metadata": {},
   "outputs": [],
   "source": [
    "y = Polyfit [0] * S + Polyfit [1]\n",
    "print (\"\\nThe Predicted Power Output for a Wind Speed of\",S,\"Mph is\",round(y,2),\"KWph\\n\")"
   ]
  },
  {
   "cell_type": "markdown",
   "metadata": {},
   "source": [
    "<BR>"
   ]
  },
  {
   "cell_type": "markdown",
   "metadata": {},
   "source": [
    "### Analyse the Accuracy of Trial and Best Fit Lines\n",
    "***"
   ]
  },
  {
   "cell_type": "markdown",
   "metadata": {},
   "source": [
    "#### Calculate the 'Cost' of Trial Fit Line"
   ]
  },
  {
   "cell_type": "code",
   "execution_count": null,
   "metadata": {},
   "outputs": [],
   "source": [
    "p = (np.array(df.Power_KWph))\n",
    "s = (np.array(df.Speed_Mph))\n",
    "pd.set_option(\"display.precision\", 2) #Round the results to 2 decimal places"
   ]
  },
  {
   "cell_type": "code",
   "execution_count": null,
   "metadata": {},
   "outputs": [],
   "source": [
    "cost = lambda m,c: np.sum([(p[i] - m * s[i] - c)**2 for i in range(len(df.Speed_Mph))])\n",
    "\n",
    "print(\"\\nTrial Fit 1: Cost with m = %.1f and c = %.1f: %.0f\" % (5.5, 0.5, cost(5.5, 0.5)))\n",
    "print(\"Trial Fit 2: Cost with m = %.1f and c = %.1f: %.0f\" % (5.0,  0.5, cost(5.0,  0.5)))\n",
    "print(\"Trial Fit 3: Cost with m = %.1f and c = %.1f: %.0f\" % (4.0, 5.0, cost(4.0, 5.0)),\"\\n\")"
   ]
  },
  {
   "cell_type": "markdown",
   "metadata": {},
   "source": [
    "#### Calculate the 'Cost' of Best Fit Line"
   ]
  },
  {
   "cell_type": "code",
   "execution_count": null,
   "metadata": {},
   "outputs": [],
   "source": [
    "cost = lambda m,c: np.sum([(p[i] - Polyfit[0] * s[i] - Polyfit[1])**2 for i in range(len(df.Speed_Mph))])\n",
    "print(\"\\nBest Fit: Cost with m = %.2f and c = %.2f: %.0f\" % (m, c, cost(m, c)),\"\\n\")"
   ]
  },
  {
   "cell_type": "code",
   "execution_count": null,
   "metadata": {},
   "outputs": [],
   "source": [
    "#Alternative code using m & c as variables:\n",
    "cost = lambda m,c: np.sum([(p[i] - m * s[i] - c)**2 for i in range(len(df.Speed_Mph))])\n",
    "print(\"\\nBest Fit: Cost with m = %.2f and c = %.2f: %.0f\" % (m, c, cost(m, c)),\"\\n\")"
   ]
  },
  {
   "cell_type": "markdown",
   "metadata": {},
   "source": [
    "   *Conclusion: The 'Best Fit' line is the closest linear estimation of the dataset*"
   ]
  },
  {
   "cell_type": "markdown",
   "metadata": {},
   "source": [
    "<BT>"
   ]
  },
  {
   "cell_type": "markdown",
   "metadata": {},
   "source": [
    "#### Check Results & Create Cost Column in the Dataframe"
   ]
  },
  {
   "cell_type": "code",
   "execution_count": null,
   "metadata": {},
   "outputs": [],
   "source": [
    "#To create data for df['Cost']\n",
    "Cost = ([(p[i] - m * s[i] - c)**2 for i in range(len(df.Speed_Mph))])"
   ]
  },
  {
   "cell_type": "code",
   "execution_count": null,
   "metadata": {},
   "outputs": [],
   "source": [
    "# Create a 'Cost Column to show Cost by Sample'\n",
    "df['Cost'] = Cost\n",
    "pd.set_option(\"display.precision\", 3) #Round the results to 3 decimal places"
   ]
  },
  {
   "cell_type": "code",
   "execution_count": null,
   "metadata": {},
   "outputs": [],
   "source": [
    "#Option to show the dataframe with 'Cost' by sample (only 5 shown as an example for space purposes)\n",
    "df.head(5)"
   ]
  },
  {
   "cell_type": "code",
   "execution_count": null,
   "metadata": {},
   "outputs": [],
   "source": [
    "print (\"\\nThe Cost of the Best fit is\",((round(np.sum(df['Cost'])))),\"\\n\")"
   ]
  },
  {
   "cell_type": "markdown",
   "metadata": {},
   "source": [
    "#### Calculate the R2 Value of the Trial Fit Lines"
   ]
  },
  {
   "cell_type": "code",
   "execution_count": null,
   "metadata": {},
   "outputs": [],
   "source": [
    "#https://www.geeksforgeeks.org/python-coefficient-of-determination-r2-score/\n",
    "a = np.array(df.Power_KWph)\n",
    "\n",
    "#Trial Fit Line 1:\n",
    "b1 = np.array(5.5 * x + 0.5)\n",
    "r2 = r2_score(a,b1)\n",
    "print(\"\\nThe R2 value of Trial Fit Line 1 is\",(round(r2*100)),\"%\")\n",
    "\n",
    "#Trial Fit Line 2:\n",
    "b2 = np.array(5 * x + 0.5)\n",
    "r2 = r2_score(a,b2)\n",
    "print(\"The R2 value of Trial Fit Line 2 is\",(round(r2*100)),\"%\")\n",
    "\n",
    "#Trial Fit Line 3:\n",
    "b3 = np.array(4 * x + 5)\n",
    "r2 = r2_score(a,b3)\n",
    "print(\"The R2 value of Trial Fit Line 3 is\",(round(r2*100)),\"%\\n\")"
   ]
  },
  {
   "cell_type": "markdown",
   "metadata": {},
   "source": [
    "#### Calculate the R2 Value of the Best Fit Lines"
   ]
  },
  {
   "cell_type": "code",
   "execution_count": null,
   "metadata": {},
   "outputs": [],
   "source": [
    "#Create and populate a new Column called 'Power Prediction'\n",
    "df['Power_Prediction'] = Predict (df.Speed_Mph)\n",
    "df.sort_values(by =['Speed_Mph'], inplace=True, ascending=True)#Sort the dataset in ascending order"
   ]
  },
  {
   "cell_type": "code",
   "execution_count": null,
   "metadata": {},
   "outputs": [],
   "source": [
    "#Option to view the dataset\n",
    "df[['Speed_Mph','Power_KWph','Power_Prediction','Cost']].head(5)"
   ]
  },
  {
   "cell_type": "code",
   "execution_count": null,
   "metadata": {},
   "outputs": [],
   "source": [
    "a = np.array(df.Power_KWph)\n",
    "b = np.array(df.Power_Prediction)\n",
    "r2 = r2_score(a,b) \n",
    "print(\"\\nThe R2 value of Best Fit Line 3 is\",(round(r2*100)),\"%\\n\")"
   ]
  },
  {
   "cell_type": "markdown",
   "metadata": {},
   "source": [
    "*Conclusion: The 'Best Fit' Line is the best approximation as it 'explains' 90% of points on the dataset*"
   ]
  },
  {
   "cell_type": "markdown",
   "metadata": {},
   "source": [
    "<BR>"
   ]
  },
  {
   "cell_type": "markdown",
   "metadata": {},
   "source": [
    "### Compare Simple Regression to Other Methods\n",
    "***"
   ]
  },
  {
   "cell_type": "code",
   "execution_count": null,
   "metadata": {},
   "outputs": [],
   "source": [
    "#https://medium.com/towards-artificial-intelligence/calculating-simple-linear-regression-and-linear-best-fit-an-in-depth-tutorial-with-math-and-python-804a0cb23660#9a2b\n",
    "#https://colab.research.google.com/drive/1WRdDbFFykiLv16-Vv-ghsregmfdbwtRX?usp=sharing&pli=1#scrollTo=3kbMmi6JYeB4\n",
    "\n",
    "df2 = df.sample(n=int(len(df))) #Randomly sort the original dataset\n",
    "num = int(len(df2)*.6) \n",
    "#https://datatofish.com/random-rows-pandas-dataframe/\n",
    "train = df2[:num]#Use the first 60% of the dataset as a training set\n",
    "test = df2[num:] #Use the remaining 40% of the dataset as a test set\n",
    "print(\"\\nData\",len(df))\n",
    "print(\"Train\",len(train))\n",
    "print(\"Test\",len(test),\"\\n\")"
   ]
  },
  {
   "cell_type": "code",
   "execution_count": null,
   "metadata": {},
   "outputs": [],
   "source": [
    "#Main function to find the mean & coefficients of line:\n",
    "\n",
    "def simple_linear_regression(input_feature,output):\n",
    "    \n",
    "    Xi = input_feature\n",
    "    Yi = output\n",
    "    \n",
    "    #Total number of data points:\n",
    "    n = len(Xi)\n",
    "    \n",
    "    #X bar:\n",
    "    Xi_mean = Xi.mean()\n",
    "    \n",
    "    #Y bar:\n",
    "    Yi_mean = Yi.mean()\n",
    "    \n",
    "    #Sum of X:\n",
    "    S_Xi = (Xi).sum()\n",
    "    \n",
    "    #Sum of Y:\n",
    "    S_Yi = (Yi).sum()\n",
    "    \n",
    "    #Sum of (X*Y) multiplied by n:\n",
    "    S_XiYi = ((Xi*Yi).sum())*n\n",
    "    \n",
    "    #Sum of X*Sum of Y:\n",
    "    S_Xi_S_Yi = S_Xi*S_Yi\n",
    "    \n",
    "    #Sum of (X*X) multiplied by n:\n",
    "    S_XiXi = ((Xi*Xi).sum())*n\n",
    "    \n",
    "    #Square of sum of X:\n",
    "    S_Xi_Square = S_Xi*S_Xi\n",
    "    \n",
    "    #Slope:\n",
    "    slope = (S_XiYi- S_Xi_S_Yi) / (S_XiXi-S_Xi_Square)\n",
    "    \n",
    "    #Intercept:\n",
    "    intercept = Yi_mean - slope * Xi_mean\n",
    "    \n",
    "    return slope,intercept"
   ]
  },
  {
   "cell_type": "code",
   "execution_count": null,
   "metadata": {},
   "outputs": [],
   "source": [
    "#Apply df dataset to the function:\n",
    "\n",
    "Input = np.array((df['Speed_Mph']))\n",
    "Output = np.array((df['Power_KWph']))\n",
    "\n",
    "Slope,Intercept = simple_linear_regression(Input,Output)\n",
    "\n",
    "print (\"\\nSlope (m)of the Original Dataset  : \" , Slope)\n",
    "print (\"Intercept (c) of the Original Dataset :\",Intercept,\"\\n\")"
   ]
  },
  {
   "cell_type": "code",
   "execution_count": null,
   "metadata": {},
   "outputs": [],
   "source": [
    "#Training the model with train data:\n",
    "#Finding the coefficients of best fit line:\n",
    "\n",
    "actual_slope,actual_intercept = simple_linear_regression(train[\"Speed_Mph\"],train[\"Power_KWph\"])\n",
    "print ('\\nBest Fit Line Values:\\n')\n",
    "print (\"Slope of the Training dataset: \" ,actual_slope)\n",
    "print (\"Intercept of the Training dataset: \" ,actual_intercept,\"\\n\")"
   ]
  },
  {
   "cell_type": "markdown",
   "metadata": {},
   "source": [
    "#### Plot the regression line with training data"
   ]
  },
  {
   "cell_type": "code",
   "execution_count": null,
   "metadata": {},
   "outputs": [],
   "source": [
    "plt.rcParams[\"figure.figsize\"] = (12,8)\n",
    "\n",
    "plt.scatter(train[\"Speed_Mph\"],train[\"Power_KWph\"],color=\"red\", label = \"Training Dataset\")# Scatterplot the training data\n",
    "plt.plot(train[\"Speed_Mph\"],actual_slope*train[\"Speed_Mph\"]+actual_intercept,color=\"red\", label = \"Training Best Fit: 5.57x = -18.45\") #Best fit line of the training data\n",
    "plt.plot (df.Speed_Mph, df.Power_KWph, 'b.', label = \"Original Dataset\")# Plot the original data\n",
    "plt.plot(train[\"Speed_Mph\"],Slope * train[\"Speed_Mph\"]+actual_intercept,color=\"blue\",label = \"Actual Best Fit: 5.56x = -19.02\") #Best fit line of the original data\n",
    "\n",
    "plt.xlabel(\"Speed_Mph\")\n",
    "plt.ylabel(\"Power_KWph\")\n",
    "plt.legend()\n",
    "plt.show()"
   ]
  },
  {
   "cell_type": "markdown",
   "metadata": {},
   "source": [
    "#### Define the prediction function"
   ]
  },
  {
   "cell_type": "code",
   "execution_count": null,
   "metadata": {},
   "outputs": [],
   "source": [
    "def get_regression_prediction(input_features,slope,intercept):\n",
    "    predicted_value = actual_slope*input_features + actual_intercept\n",
    "    return predicted_value"
   ]
  },
  {
   "cell_type": "markdown",
   "metadata": {},
   "source": [
    "#### Predicting values based on prediction function"
   ]
  },
  {
   "cell_type": "code",
   "execution_count": null,
   "metadata": {},
   "outputs": [],
   "source": [
    "Speed = 6\n",
    "\n",
    "estimated_power = get_regression_prediction(Speed,actual_slope,actual_intercept)\n",
    "\n",
    "print (\"\\nEstimated Power: \",round(estimated_power,2),\"\\n\")"
   ]
  },
  {
   "cell_type": "markdown",
   "metadata": {},
   "source": [
    "#### Predicting values for the whole dataset"
   ]
  },
  {
   "cell_type": "code",
   "execution_count": null,
   "metadata": {},
   "outputs": [],
   "source": [
    "Power_Prediction = get_regression_prediction(df[\"Speed_Mph\"],actual_slope,actual_intercept)\n",
    "\n",
    "#Option to print the prediction\n",
    "#print(Power_Prediction)"
   ]
  },
  {
   "cell_type": "markdown",
   "metadata": {},
   "source": [
    "#### Plot the regression line for test data"
   ]
  },
  {
   "cell_type": "code",
   "execution_count": null,
   "metadata": {},
   "outputs": [],
   "source": [
    "plt.scatter(test[\"Speed_Mph\"],test[\"Power_KWph\"],label=\"Test Dataset\")\n",
    "plt.plot(test[\"Speed_Mph\"],actual_slope*test[\"Speed_Mph\"]+actual_intercept,color=\"red\",label=\"Test DataBest Fit Line\")\n",
    "plt.xlabel(\"Speed_Mph\")\n",
    "plt.ylabel(\"Power_KWph\")\n",
    "plt.legend()\n",
    "plt.show()"
   ]
  },
  {
   "cell_type": "markdown",
   "metadata": {},
   "source": [
    "### Using Sklearn package to Model the Data \n",
    "***"
   ]
  },
  {
   "cell_type": "code",
   "execution_count": null,
   "metadata": {},
   "outputs": [],
   "source": [
    "#https://scikit-learn.org/stable/auto_examples/linear_model/plot_ols.html\n",
    "#https://stackabuse.com/linear-regression-in-python-with-scikit-learn/\n",
    "\n",
    "X = df[['Speed_Mph']]\n",
    "Y = df['Power_KWph']\n",
    "\n",
    "regr = linear_model.LinearRegression()\n",
    "train_x = np.array(train[['Speed_Mph']])\n",
    "train_y = np.array(train['Power_KWph'])\n",
    "regr.fit(train_x,train_y)\n",
    "test_x = np.array(test[['Speed_Mph']])\n",
    "test_y = np.array(test['Power_KWph'])"
   ]
  },
  {
   "cell_type": "markdown",
   "metadata": {},
   "source": [
    "#### Print the Coefficient Values"
   ]
  },
  {
   "cell_type": "code",
   "execution_count": null,
   "metadata": {},
   "outputs": [],
   "source": [
    "coeff_data = pd.DataFrame(regr.coef_ , X.columns , columns=[\"Coefficients\"])\n",
    "coeff_data"
   ]
  },
  {
   "cell_type": "markdown",
   "metadata": {},
   "source": [
    "#### Predict the Data"
   ]
  },
  {
   "cell_type": "code",
   "execution_count": null,
   "metadata": {},
   "outputs": [],
   "source": [
    "Y_pred = regr.predict(test_x)"
   ]
  },
  {
   "cell_type": "markdown",
   "metadata": {},
   "source": [
    "#### Check the Accuracy"
   ]
  },
  {
   "cell_type": "code",
   "execution_count": null,
   "metadata": {},
   "outputs": [],
   "source": [
    "# Check accuracy:\n",
    "from sklearn.metrics import r2_score\n",
    "R = r2_score(test_y , Y_pred)\n",
    "#print (\"R² :\",R)\n",
    "print(\"\\nThe R2 value of Test Best Fit Line is\",(round(R*100)),\"%\\n\")"
   ]
  },
  {
   "cell_type": "markdown",
   "metadata": {},
   "source": [
    "### References\n",
    "***"
   ]
  },
  {
   "cell_type": "markdown",
   "metadata": {},
   "source": [
    "https://realpython.com/linear-regression-in-python/\n",
    "\n",
    "https://towardsdatascience.com/linear-regression-detailed-view-ea73175f6e86\n",
    "\n",
    "https://machinelearningmastery.com/a-gentle-introduction-to-scikit-learn-a-python-machine-learning-library/\n",
    "\n",
    "https://datatofish.com/sort-pandas-dataframe/\n",
    "\n",
    "https://www.kite.com/python/answers/how-to-print-an-entire-pandas-dataframe-in-python\n",
    "\n",
    "https://www.codegrepper.com/code-examples/python/how+to+align+column+name+to+center+in+pandas+dataframe\n",
    "\n",
    "https://www.dataquest.io/blog/settingwithcopywarning/\n",
    "\n",
    "https://realpython.com/pandas-groupby/\n",
    "\n",
    "https://github.com/ianmcloughlin/jupyter-teaching-notebooks/blob/master/simple-linear-regression.ipynb\n",
    "\n",
    "https://www.geeksforgeeks.org/python-coefficient-of-determination-r2-score/\n",
    "\n",
    "https://medium.com/towards-artificial-intelligence/calculating-simple-linear-regression-and-linear-best-fit-an-in-depth-tutorial-with-math-and-python-804a0cb23660#9a2b\n",
    "\n",
    "https://colab.research.google.com/drive/1WRdDbFFykiLv16-Vv-ghsregmfdbwtRX?usp=sharing&pli=1#scrollTo=3kbMmi6JYeB4\n",
    "\n",
    "https://www.shanelynn.ie/select-pandas-dataframe-rows-and-columns-using-iloc-loc-and-ix/\n",
    "\n",
    "https://datatofish.com/random-rows-pandas-dataframe/\n",
    "\n",
    "https://scikit-learn.org/stable/auto_examples/linear_model/plot_ols.html\n",
    "\n",
    "https://contactsunny.medium.com/linear-regression-in-python-using-scikit-learn-f0f7b125a204\n",
    "\n",
    "https://stackabuse.com/linear-regression-in-python-with-scikit-learn/\n",
    "\n",
    "https://www.geeksforgeeks.org/linear-regression-python-implementation/"
   ]
  },
  {
   "cell_type": "markdown",
   "metadata": {},
   "source": [
    "# End"
   ]
  }
 ],
 "metadata": {
  "kernelspec": {
   "display_name": "Python 3",
   "language": "python",
   "name": "python3"
  },
  "language_info": {
   "codemirror_mode": {
    "name": "ipython",
    "version": 3
   },
   "file_extension": ".py",
   "mimetype": "text/x-python",
   "name": "python",
   "nbconvert_exporter": "python",
   "pygments_lexer": "ipython3",
   "version": "3.8.3"
  }
 },
 "nbformat": 4,
 "nbformat_minor": 4
}

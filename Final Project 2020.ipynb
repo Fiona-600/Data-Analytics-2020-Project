{
 "cells": [
  {
   "cell_type": "markdown",
   "metadata": {},
   "source": [
    "### Higher Diploma in Science - Data Analytics 2020/21\n",
    "\n",
    "### Fundamentals of Data Analysis Project\n",
    "\n",
    "#### Prepared by: Fiona Lee \n",
    "#### Due Date - 8 January 2021\n"
   ]
  },
  {
   "cell_type": "markdown",
   "metadata": {},
   "source": [
    "<BR>"
   ]
  },
  {
   "cell_type": "markdown",
   "metadata": {},
   "source": [
    "### Fundamentals of Data Analysis - Project Instructions:\n",
    "\n",
    "In  this  project  you  must  perform  and  explain  simple  linear  regression  using  Python on the power production dataset available on Moodle.  \n",
    "\n",
    "The goal is to accurately predict wind turbine power output from wind speed values using the data set as a basis.\n",
    "\n",
    "Your submission must be in the form of a git repository containing, at a minimum, thefollowing items:\n",
    "\n",
    "1.  Jupyter notebook that performs simple linear regression on the data set.\n",
    "2.  In that notebook, an explanation of your regression and an analysis of its accuracy.\n",
    "3.  Standard items in a git repository such as a README.\n",
    "\n",
    "To enhance your submission, you might consider comparing simple linear regression to other types of regression on this data set. "
   ]
  },
  {
   "cell_type": "markdown",
   "metadata": {},
   "source": [
    "### Import Modules \n",
    "***"
   ]
  },
  {
   "cell_type": "code",
   "execution_count": null,
   "metadata": {},
   "outputs": [],
   "source": [
    "import pandas as pd\n",
    "import seaborn as sns\n",
    "import numpy as np\n",
    "import matplotlib.pyplot as plt\n",
    "from pandas import DataFrame"
   ]
  },
  {
   "cell_type": "markdown",
   "metadata": {},
   "source": [
    "### Import & Check the Dataset\n",
    "***"
   ]
  },
  {
   "cell_type": "code",
   "execution_count": null,
   "metadata": {
    "scrolled": true
   },
   "outputs": [],
   "source": [
    "df = pd.read_csv('Wind-Power.csv')\n",
    "#pd.set_option(\"display.max_rows\", None)#Option to Show the entire dataset\n",
    "pd.set_option('max_colwidth',100)\n",
    "#df #Option to Print the Dataset"
   ]
  },
  {
   "cell_type": "code",
   "execution_count": null,
   "metadata": {},
   "outputs": [],
   "source": [
    "#Check if characters in the data imported is the same type\n",
    "#df.dtypes"
   ]
  },
  {
   "cell_type": "code",
   "execution_count": null,
   "metadata": {},
   "outputs": [],
   "source": [
    "#Check if there are any empty cells in the dataframe\n",
    "pd.set_option(\"display.max_rows\",500)# Option to display all entries\n",
    "df.style.highlight_null(null_color='red'); #highlight any null values in red\n",
    "#print(df.isnull()) #Option to print the dataset"
   ]
  },
  {
   "cell_type": "code",
   "execution_count": null,
   "metadata": {},
   "outputs": [],
   "source": [
    "#Check for corrupt data\n",
    "#print (\"power shape = \",df.shape)"
   ]
  },
  {
   "cell_type": "code",
   "execution_count": null,
   "metadata": {},
   "outputs": [],
   "source": [
    "#Re-name the columns from the original dataset\n",
    "df.rename(columns={'speed':'Speed_Mph'},inplace = True)\n",
    "df.rename(columns={'power':'Power_KWph'},inplace = True)"
   ]
  },
  {
   "cell_type": "markdown",
   "metadata": {},
   "source": [
    "### Review the Data\n",
    "***"
   ]
  },
  {
   "cell_type": "code",
   "execution_count": null,
   "metadata": {},
   "outputs": [],
   "source": [
    "#Show the entire dataset sorted by 'Speed_Mph'\n",
    "pd.set_option(\"display.max_rows\", None)#Show the entire dataset\n",
    "pd.set_option(\"display.precision\", 3) #Round the results to 3 decimal places\n",
    "df.sort_values(by =['Speed_Mph'], inplace=True, ascending=True)#Sort the dataset in descending order\n",
    "#https://datatofish.com/sort-pandas-dataframe/\n",
    "df.style.set_properties(subset = [\"Power KWph\", \"Speed Mph\"], **{'text-align': 'right'})\n",
    "#https://www.kite.com/python/answers/how-to-print-an-entire-pandas-dataframe-in-python\n",
    "print (\"\")"
   ]
  },
  {
   "cell_type": "code",
   "execution_count": null,
   "metadata": {},
   "outputs": [],
   "source": [
    "#Option to print the dataset\n",
    "#df[['Speed_Mph','Power_KWph','Power:Speed']]"
   ]
  },
  {
   "cell_type": "markdown",
   "metadata": {},
   "source": [
    "### Add Classification Columns\n",
    "***"
   ]
  },
  {
   "cell_type": "markdown",
   "metadata": {},
   "source": [
    "#### Create a New Column called 'Power:Speed'"
   ]
  },
  {
   "cell_type": "code",
   "execution_count": 20,
   "metadata": {},
   "outputs": [],
   "source": [
    "#Add Power/Speed Column\n",
    "df['Power:Speed'] = (df ['Power_KWph'] / df ['Speed_Mph']) #Add Power/Speed Column\n",
    "pd.set_option(\"display.precision\", 3)\n",
    "df.style.set_properties(subset=[\"Power_KWph\", \"Speed_Mph\"], **{'text-align': 'centre'});\n",
    "#https://www.codegrepper.com/code-examples/python/how+to+align+column+name+to+center+in+pandas+dataframe\n",
    "#del df['power/speed']; #delete additional column\n",
    "#df"
   ]
  },
  {
   "cell_type": "markdown",
   "metadata": {},
   "source": [
    "#### Create a New Column identifying rows where Power_KWph = 0 and Speed_Mph > 8 and less than 55mph"
   ]
  },
  {
   "cell_type": "code",
   "execution_count": 42,
   "metadata": {},
   "outputs": [],
   "source": [
    "# Create a new Column identifying rows where Power_KWph = 0 and Speed_Mph > 8 and less than 55mph\n",
    "def Power(row):\n",
    "    if row['Power_KWph'] == 0 and row['Speed_Mph'] > 8:\n",
    "        return 'Out of Order'\n",
    "    if row['Power_KWph'] == 0 and row['Speed_Mph'] > 55:\n",
    "        return 'Shut Down'    \n",
    "    else:\n",
    "        return 'Normal'\n",
    "    \n",
    "#To populate a column called 'Power Staus' in the dataframe from the results above  \n",
    "df['Status'] = df.apply(lambda row: Power(row), axis=1)\n",
    "#df = df.drop('Zero Power', axis=1)\n",
    "pd.set_option(\"display.precision\", 3)\n",
    "df.sort_values(by=['Speed_Mph'], inplace=True, ascending=True)#Sort the dataset in ascending order"
   ]
  },
  {
   "cell_type": "markdown",
   "metadata": {},
   "source": [
    "#### Create a New Column called 'Optimum Ratio' based on Power:Speed Ratio"
   ]
  },
  {
   "cell_type": "code",
   "execution_count": 57,
   "metadata": {},
   "outputs": [],
   "source": [
    "def Optimum(row):\n",
    "\n",
    "    if row['Power:Speed'] ==0 and row['Speed_Mph'] > 8:\n",
    "        return 'Out of Order'\n",
    "    if row['Power:Speed'] ==0 and row['Speed_Mph'] < 8:\n",
    "        return 'Zero Power - Low Wind Speed (<8mph)'\n",
    "    if row['Speed_Mph']== 0 and row['Power_KWph'] == 0:\n",
    "        return 'Test'\n",
    "    if row['Power:Speed'] > 0 and row['Power:Speed'] < 6 and row['Speed_Mph'] < 8:\n",
    "        return 'Sub Optimum Power Output: Wind Speed < 6 - Wind Speed < 8mph' \n",
    "    if row['Power:Speed'] > 0 and row['Power:Speed'] < 6 and row['Speed_Mph'] >= 8:\n",
    "        return 'Sub Optimum Power Output: Wind Speed < 6 - Wind Speed > 8mph'         \n",
    "    if row['Power:Speed'] >= 6 and row['Power:Speed'] <= 8:\n",
    "        return 'Optimum Power Output: Wind Speed (6-8)'     \n",
    "    if row['Power:Speed'] > 8 and row['Speed_Mph'] < 8 :\n",
    "        return 'Exceptional Power Output: Wind Speed ( > 8)'    \n",
    "    if row['Power:Speed'] > 8 and row['Speed_Mph'] >= 8:\n",
    "        return '> Optimum'             \n",
    "    else:\n",
    "        return 'null'\n",
    "    \n",
    "#To populate a column called 'Optimum_Ratio' in the dataframe from the results above  \n",
    "pd.set_option('mode.chained_assignment', None)#Turn off chained warnings\n",
    "#https://www.dataquest.io/blog/settingwithcopywarning/\n",
    "df['Optimum_Ratio'] = df.apply(lambda row: Optimum(row), axis=1) \n"
   ]
  },
  {
   "cell_type": "markdown",
   "metadata": {},
   "source": [
    "### Summarise the Data\n",
    "***"
   ]
  },
  {
   "cell_type": "code",
   "execution_count": 12,
   "metadata": {},
   "outputs": [
    {
     "data": {
      "text/html": [
       "<div>\n",
       "<style scoped>\n",
       "    .dataframe tbody tr th:only-of-type {\n",
       "        vertical-align: middle;\n",
       "    }\n",
       "\n",
       "    .dataframe tbody tr th {\n",
       "        vertical-align: top;\n",
       "    }\n",
       "\n",
       "    .dataframe thead th {\n",
       "        text-align: right;\n",
       "    }\n",
       "</style>\n",
       "<table border=\"1\" class=\"dataframe\">\n",
       "  <thead>\n",
       "    <tr style=\"text-align: right;\">\n",
       "      <th></th>\n",
       "      <th>Speed_Mph</th>\n",
       "      <th>Power_KWph</th>\n",
       "      <th>Power:Speed</th>\n",
       "    </tr>\n",
       "  </thead>\n",
       "  <tbody>\n",
       "    <tr>\n",
       "      <th>count</th>\n",
       "      <td>500</td>\n",
       "      <td>500</td>\n",
       "      <td>499</td>\n",
       "    </tr>\n",
       "    <tr>\n",
       "      <th>mean</th>\n",
       "      <td>13</td>\n",
       "      <td>48</td>\n",
       "      <td>3</td>\n",
       "    </tr>\n",
       "    <tr>\n",
       "      <th>std</th>\n",
       "      <td>7</td>\n",
       "      <td>42</td>\n",
       "      <td>2</td>\n",
       "    </tr>\n",
       "    <tr>\n",
       "      <th>min</th>\n",
       "      <td>0</td>\n",
       "      <td>0</td>\n",
       "      <td>0</td>\n",
       "    </tr>\n",
       "    <tr>\n",
       "      <th>25%</th>\n",
       "      <td>6</td>\n",
       "      <td>5</td>\n",
       "      <td>1</td>\n",
       "    </tr>\n",
       "    <tr>\n",
       "      <th>50%</th>\n",
       "      <td>13</td>\n",
       "      <td>42</td>\n",
       "      <td>4</td>\n",
       "    </tr>\n",
       "    <tr>\n",
       "      <th>75%</th>\n",
       "      <td>19</td>\n",
       "      <td>94</td>\n",
       "      <td>5</td>\n",
       "    </tr>\n",
       "    <tr>\n",
       "      <th>max</th>\n",
       "      <td>25</td>\n",
       "      <td>114</td>\n",
       "      <td>14</td>\n",
       "    </tr>\n",
       "  </tbody>\n",
       "</table>\n",
       "</div>"
      ],
      "text/plain": [
       "       Speed_Mph  Power_KWph  Power:Speed\n",
       "count        500         500          499\n",
       "mean          13          48            3\n",
       "std            7          42            2\n",
       "min            0           0            0\n",
       "25%            6           5            1\n",
       "50%           13          42            4\n",
       "75%           19          94            5\n",
       "max           25         114           14"
      ]
     },
     "execution_count": 12,
     "metadata": {},
     "output_type": "execute_result"
    }
   ],
   "source": [
    "#Show basic summary information\n",
    "pd.set_option(\"display.precision\", 0)\n",
    "# https://realpython.com/pandas-groupby/\n",
    "df.describe()"
   ]
  },
  {
   "cell_type": "code",
   "execution_count": 58,
   "metadata": {},
   "outputs": [
    {
     "data": {
      "text/html": [
       "<div>\n",
       "<style scoped>\n",
       "    .dataframe tbody tr th:only-of-type {\n",
       "        vertical-align: middle;\n",
       "    }\n",
       "\n",
       "    .dataframe tbody tr th {\n",
       "        vertical-align: top;\n",
       "    }\n",
       "\n",
       "    .dataframe thead th {\n",
       "        text-align: right;\n",
       "    }\n",
       "</style>\n",
       "<table border=\"1\" class=\"dataframe\">\n",
       "  <thead>\n",
       "    <tr style=\"text-align: right;\">\n",
       "      <th></th>\n",
       "      <th></th>\n",
       "      <th>Power_KWph</th>\n",
       "    </tr>\n",
       "    <tr>\n",
       "      <th>Optimum_Ratio</th>\n",
       "      <th>Status</th>\n",
       "      <th></th>\n",
       "    </tr>\n",
       "  </thead>\n",
       "  <tbody>\n",
       "    <tr>\n",
       "      <th>Exceptional Power Output: Wind Speed ( &gt; 8)</th>\n",
       "      <th>Normal</th>\n",
       "      <td>10</td>\n",
       "    </tr>\n",
       "    <tr>\n",
       "      <th>Optimum Power Output: Wind Speed (6-8)</th>\n",
       "      <th>Normal</th>\n",
       "      <td>2</td>\n",
       "    </tr>\n",
       "    <tr>\n",
       "      <th>Out of Order</th>\n",
       "      <th>Out of Order</th>\n",
       "      <td>14</td>\n",
       "    </tr>\n",
       "    <tr>\n",
       "      <th>Sub Optimum Power Output: Wind Speed &lt; 6 - Wind Speed &lt; 8mph</th>\n",
       "      <th>Normal</th>\n",
       "      <td>116</td>\n",
       "    </tr>\n",
       "    <tr>\n",
       "      <th>Sub Optimum Power Output: Wind Speed &lt; 6 - Wind Speed &gt; 8mph</th>\n",
       "      <th>Normal</th>\n",
       "      <td>323</td>\n",
       "    </tr>\n",
       "    <tr>\n",
       "      <th>Test</th>\n",
       "      <th>Normal</th>\n",
       "      <td>1</td>\n",
       "    </tr>\n",
       "    <tr>\n",
       "      <th>Zero Power - Low Wind Speed (&lt;8mph)</th>\n",
       "      <th>Normal</th>\n",
       "      <td>34</td>\n",
       "    </tr>\n",
       "  </tbody>\n",
       "</table>\n",
       "</div>"
      ],
      "text/plain": [
       "                                                                           Power_KWph\n",
       "Optimum_Ratio                                                Status                  \n",
       "Exceptional Power Output: Wind Speed ( > 8)                  Normal                10\n",
       "Optimum Power Output: Wind Speed (6-8)                       Normal                 2\n",
       "Out of Order                                                 Out of Order          14\n",
       "Sub Optimum Power Output: Wind Speed < 6 - Wind Speed < 8mph Normal               116\n",
       "Sub Optimum Power Output: Wind Speed < 6 - Wind Speed > 8mph Normal               323\n",
       "Test                                                         Normal                 1\n",
       "Zero Power - Low Wind Speed (<8mph)                          Normal                34"
      ]
     },
     "execution_count": 58,
     "metadata": {},
     "output_type": "execute_result"
    }
   ],
   "source": [
    "df[['Optimum_Ratio','Power_KWph','Status']].groupby(['Optimum_Ratio','Status']).count()"
   ]
  },
  {
   "cell_type": "code",
   "execution_count": 22,
   "metadata": {},
   "outputs": [
    {
     "name": "stdout",
     "output_type": "stream",
     "text": [
      "\n",
      "Output Efficiency Assessment :\n",
      "\n",
      "|--------------|------------------|---------|---------------------------------------------------------------------|\n",
      "|              |   Power Output   | No. of  |          Commentary                                                 |\n",
      "|              |      Range       | Samples |                                                                     |\n",
      "|--------------|------------------|---------|---------------------------------------------------------------------|\n",
      "|              |          0       |    14   | Assumed Out of Order (Speed >= 8)                                   |\n",
      "|              |          0       |    35   | Zero power output (Speed <8)                                        |\n",
      "|              |        0-5       |   116   | Sub Optimum Output - Low Wind Speed                                 |\n",
      "|              |        0-5       |   323   | Sub Optimum Wind Speed:Power Output                                 |\n",
      "|              |        6-8       |     2   | Optimum Wind Speed:Power Output                                     |\n",
      "|              |         8+       |    10   | Exceptional > Optimum output - Low Wind Speed                       |\n",
      "|              |         8+       |     0   | Normal > Optimum output                                             |\n",
      "|--------------|------------------|---------|---------------------------------------------------------------------|\n",
      "|              |      Total       |   500   |                                                                     |\n",
      "|--------------|------------------|---------|---------------------------------------------------------------------|\n",
      "\n"
     ]
    }
   ],
   "source": [
    "print(\"\\nOutput Efficiency Assessment :\\n\")\n",
    "print (\"|--------------|------------------|---------|---------------------------------------------------------------------|\")\n",
    "print (\"|              |   Power Output   | No. of  |          Commentary                                                 |\")\n",
    "print (\"|              |      Range       | Samples |                                                                     |\")\n",
    "print (\"|--------------|------------------|---------|---------------------------------------------------------------------|\")\n",
    "print (\"|              |          0       |   \",(len(df[\"Power_KWph\"][(df[\"Power_KWph\"]==0)&(df[\"Speed_Mph\"]>=8)])),\"  | Assumed Out of Order (Speed >= 8)                                   |\")   \n",
    "print (\"|              |          0       |   \",(len(df[\"Power_KWph\"][(df[\"Power_KWph\"]==0)&(df[\"Speed_Mph\"]<8 )])),\"  | Zero power output (Speed <8)                                        |\")  \n",
    "print (\"|              |        0-5       |  \", (len(df[\"Power_KWph\"][(df[\"Power:Speed\"]>0)&(df[\"Power:Speed\"]<=6)&(df[\"Speed_Mph\"]<8)])),\"  | Sub Optimum Output - Low Wind Speed                                 |\")\n",
    "print (\"|              |        0-5       |  \",(len(df[\"Power_KWph\"][(df[\"Power:Speed\"]>0)&(df[\"Power:Speed\"]<=6)&(df[\"Speed_Mph\"]>=8)])),\"  | Sub Optimum Wind Speed:Power Output                                 |\")\n",
    "print (\"|              |        6-8       |    \",(len(df[\"Power_KWph\"][(df[\"Power:Speed\"]>6)&(df[\"Power:Speed\"]<=8)])),\"  | Optimum Wind Speed:Power Output                                     |\")\n",
    "print (\"|              |         8+       |   \",(len(df[\"Power_KWph\"][(df[\"Power:Speed\"]>8)&(df[\"Speed_Mph\"]<8)])),\"  | Exceptional > Optimum output - Low Wind Speed                       |\")    \n",
    "print (\"|              |         8+       |    \",(len(df[\"Power_KWph\"][(df[\"Power:Speed\"]>8)&(df[\"Speed_Mph\"]>=8)])),\"  | Normal > Optimum output                                             |\")    \n",
    "print (\"|--------------|------------------|---------|---------------------------------------------------------------------|\")\n",
    "print (\"|              |      Total       |  \",(len(df[\"Power_KWph\"][(df[\"Speed_Mph\"]>=0)&(df[\"Power_KWph\"]>=0)])),\"  |                                                                     |\")\n",
    "print (\"|--------------|------------------|---------|---------------------------------------------------------------------|\\n\")\n"
   ]
  },
  {
   "cell_type": "markdown",
   "metadata": {},
   "source": [
    "### Identify Trends & Remove Outliers:\n",
    "***"
   ]
  },
  {
   "cell_type": "code",
   "execution_count": null,
   "metadata": {
    "scrolled": true
   },
   "outputs": [],
   "source": [
    "print(\"\")\n",
    "pd.set_option(\"display.precision\", 2)\n",
    "# https://realpython.com/pandas-groupby/\n",
    "df.style.set_properties(subset = [\"Power_KWph\", \"Speed_Mph\"], **{'text-align': 'center'});\n",
    "df.groupby(['Power_KWph']).agg(['count'])"
   ]
  },
  {
   "cell_type": "markdown",
   "metadata": {},
   "source": [
    "#### Summary of Findings:\n",
    "- 49 Results where Power Output = Zero\n",
    "- 10 Results where Power: Speed Ratio was in excess of 8 at low wind speeds"
   ]
  },
  {
   "cell_type": "markdown",
   "metadata": {},
   "source": [
    "#### Analyse the Results where Power Output equals Zero:"
   ]
  },
  {
   "cell_type": "code",
   "execution_count": null,
   "metadata": {
    "scrolled": true
   },
   "outputs": [],
   "source": [
    "df.sort_values(by=['Speed_Mph'], inplace=True, ascending=True)#Sort the dataset in descending order\n",
    "#df = df.drop('Power:Speed', axis=1)\n",
    "\n",
    "#Option to print the dataset subset where Power_KWph = 0\n",
    "#df[df['Power_KWph'] == 0]"
   ]
  },
  {
   "cell_type": "markdown",
   "metadata": {},
   "source": [
    "#### Conclusion"
   ]
  },
  {
   "cell_type": "markdown",
   "metadata": {},
   "source": [
    "14 samples were identified as being 'outliers' i.e. where wind speed was in excess of 8 Mph and power output was zero.  These samples were removed as it can be assumed that the turbine was out of order.  These samples were classed as 'Out of Order'  \n",
    "\n",
    "1 sample was removed where wind speed and power output were zero.  This was classed as a 'Test'\n",
    "\n",
    "35 samples were identified with zero power output at wind speeds less than 8mph.  It has been assumed that this is normal.\n",
    "\n",
    "10 further possible 'outliers ' were identified where wind speed was below 8 and power:speed ratio was above 8.  These samples are exceptional and potentially incorrect records but they have been left in for the purposes of the analysis."
   ]
  },
  {
   "cell_type": "markdown",
   "metadata": {},
   "source": [
    "#### Create a Subset Dataframe (df2) Excluding Outliers"
   ]
  },
  {
   "cell_type": "code",
   "execution_count": null,
   "metadata": {},
   "outputs": [],
   "source": [
    "pd.set_option(\"display.precision\", 3)\n",
    "df1 = df[df['Power Status'] != 'Normal'] # Outlier Only Dataframe\n",
    "df2 = df[df['Power Status'] == 'Normal'] # Excluding Outliers Dataframe\n",
    "\n",
    "#Option to print the new dataset\n",
    "print(\" - Samples in Original Dataframe:\",len(df),\"\\n\",\"- Samples in New Dataframe:\",len(df2),\"\\n\",\"- Number of Outliers removed from Original Dataframe:\",len(df1),\"\\n\")"
   ]
  },
  {
   "cell_type": "code",
   "execution_count": null,
   "metadata": {},
   "outputs": [],
   "source": [
    "df[['Power Status','Power_KWph']].groupby(['Power Status']).count()"
   ]
  },
  {
   "cell_type": "markdown",
   "metadata": {},
   "source": []
  },
  {
   "cell_type": "code",
   "execution_count": null,
   "metadata": {},
   "outputs": [],
   "source": []
  },
  {
   "cell_type": "code",
   "execution_count": null,
   "metadata": {},
   "outputs": [],
   "source": [
    "df2.sort_values(by=['Power:Speed'], inplace=True, ascending=False)#Sort the dataset in ascending order\n",
    "df2.describe()\n",
    "\n",
    "#Option to print the dataset with new column\n",
    "#df2"
   ]
  },
  {
   "cell_type": "markdown",
   "metadata": {},
   "source": [
    "### Visualise the Data:\n",
    "***"
   ]
  },
  {
   "cell_type": "markdown",
   "metadata": {},
   "source": [
    "#### Plot Entire Dataset including Outliers"
   ]
  },
  {
   "cell_type": "code",
   "execution_count": null,
   "metadata": {},
   "outputs": [],
   "source": [
    "plt.figure(figsize = (8, 5)) \n",
    "plt.title('\\nRelationship between Wind Speed and Power Output\\n', fontsize = 14)\n",
    "plt.xticks([0, 2, 4, 6,8,10,12,14,16,18,20,22,24,26], size =14)\n",
    "plt.yticks([0, 10,20,30,40,50,60,70,80,90,100,110,120], size =14)\n",
    "plt.grid(True)\n",
    "plt.rcParams[\"axes.labelsize\"] = 14\n",
    "sns.lineplot (x=df.Speed_Mph,y=df.Power_KWph)\n",
    "plt.show()"
   ]
  },
  {
   "cell_type": "markdown",
   "metadata": {},
   "source": [
    "#### Plot the dataset with Assumed 'Power Outages' (Outliers) Removed"
   ]
  },
  {
   "cell_type": "code",
   "execution_count": null,
   "metadata": {},
   "outputs": [],
   "source": [
    "plt.figure(figsize = (8, 5)) \n",
    "plt.title('\\nRelationship between Wind Speed and Power Output\\n', fontsize = 14)\n",
    "plt.xticks([0, 2, 4, 6,8,10,12,14,16,18,20,22,24,26], size =14)\n",
    "plt.yticks([0, 10,20,30,40,50,60,70,80,90,100,110,120], size =14)\n",
    "plt.grid(True)\n",
    "plt.rcParams[\"axes.labelsize\"] = 14\n",
    "sns.lineplot (x=df2.Speed_Mph,y=df2.Power_KWph)\n",
    "plt.show()"
   ]
  },
  {
   "cell_type": "markdown",
   "metadata": {},
   "source": [
    "### More Plots:\n",
    "***"
   ]
  },
  {
   "cell_type": "markdown",
   "metadata": {},
   "source": [
    "#### Plot the Frequency of Speed and Power"
   ]
  },
  {
   "cell_type": "code",
   "execution_count": null,
   "metadata": {},
   "outputs": [],
   "source": [
    "print (\"\")\n",
    "plt.figure(figsize = (10, 7)) \n",
    "x = df2 [\"Speed_Mph\"] \n",
    "plt.hist(x, bins = 20, color = \"blue\", rwidth = 0.95) \n",
    "plt.title(\"Speed Values Occurences in Wind Turbine Dataset\\n\", fontsize = 15) \n",
    "plt.xlabel(\"Speed\", fontsize = 15) \n",
    "plt.ylabel(\"Frequency\", fontsize = 15) \n",
    "plt.show()\n",
    "print (\"\")\n",
    "plt.figure(figsize = (10, 7)) \n",
    "x = df2 [\"Power_KWph\"] \n",
    "plt.hist(x, bins = 20, color = \"red\", rwidth = 0.95) \n",
    "plt.title(\"Power Value Occurences in Wind Turbine Dataset\\n\", fontsize = 15) \n",
    "plt.xlabel(\"Power\", fontsize = 15) \n",
    "plt.ylabel(\"Frequency\", fontsize = 15) \n",
    "plt.show()"
   ]
  },
  {
   "cell_type": "markdown",
   "metadata": {},
   "source": [
    "#### Plot Speed and Power Results on the Same Axis\n"
   ]
  },
  {
   "cell_type": "code",
   "execution_count": null,
   "metadata": {},
   "outputs": [],
   "source": [
    "#https://stackoverflow.com/questions/11640243/pandas-plot-multiple-y-axes\n",
    "plt.rcParams[\"axes.labelsize\"] = 8\n",
    "sns.set_style (\"whitegrid\")\n",
    "fig, ax = plt.subplots()\n",
    "rspine = ax.spines ['right']\n",
    "rspine.set_position (('axes', 1))\n",
    "ax.set_frame_on (True)\n",
    "ax.patch.set_visible (True)\n",
    "ax.grid(True)\n",
    "fig.subplots_adjust(right = 2)\n",
    "df2.Power_KWph.plot(ax = ax, style = 'b.',label = \"Power Produced\")\n",
    "plt.yticks([0,10,20,30,40,50,60,70,80,90,100,110,120],fontsize = 16)\n",
    "ax.legend(loc = 0)\n",
    "plt.xlabel(\"\\n Sample Number\",fontsize = 16)\n",
    "plt.ylabel(\"Power Produced (KWph) \\n\",fontsize = 16)\n",
    "\n",
    "# same ax as above since it's automatically added on the right\n",
    "df2.Speed_Mph.plot(ax = ax, style = 'r.', label = \"Wind Speed\", secondary_y = True)\n",
    "plt.yticks([0, 2, 4, 6,8,10,12,14,16,18,20,22,24,26],fontsize = 16)\n",
    "plt.xticks([0,25, 50,75, 100, 125, 150, 175, 200, 225, 250, 275,300,325,350,375,400,425,450,475,500],fontsize = 16)\n",
    "plt.ylabel(\"\\n Wind Speed (Mph)\",fontsize = 16)\n",
    "plt.title(\"\\n Relationship between the rate of growth of Wind Speed vs. Power Produced by Wind Turbines \\n\\n\" , fontsize = 16)\n",
    "handles, labels = ax.get_legend_handles_labels()\n",
    "ax.legend(handles, labels)\n",
    "plt.legend (loc = \"center left\", frameon = True)\n",
    "bbox_to_anchor=(10, 500)\n",
    "plt.show()\n"
   ]
  },
  {
   "cell_type": "markdown",
   "metadata": {},
   "source": [
    "### Plot the Normalised Dataset (df2) as a Scatterplot with a Regression Line:"
   ]
  },
  {
   "cell_type": "code",
   "execution_count": null,
   "metadata": {},
   "outputs": [],
   "source": [
    "print (\"\")\n",
    "#plt.rcParams[\"figure.figsize\"] = (12,8)\n",
    "plt.figure(figsize = (10, 6)) \n",
    "sns.set_style (\"whitegrid\")\n",
    "sns.lmplot(x=\"Speed_Mph\", y='Power_KWph', hue='Optimum_Ratio', palette=\"muted\", height = 7 ,data=df2);#use data including power outages\n",
    "plt.title(\"Speed vs Power\\n\\n\", fontsize = 16)\n",
    "plt.rcParams[\"axes.labelsize\"] = 14;\n",
    "plt.xticks([0, 2, 4, 6,8,10,12,14,16,18,20,22,24,26], fontsize = 14)\n",
    "plt.yticks([0, 10,20,30,40,50,60,70,80,90,100,110,120], fontsize = 14)\n",
    "plt.show()"
   ]
  },
  {
   "cell_type": "markdown",
   "metadata": {},
   "source": [
    "### Predict expected Power based on a Given Speed\n",
    "***"
   ]
  },
  {
   "cell_type": "code",
   "execution_count": null,
   "metadata": {},
   "outputs": [],
   "source": [
    "%matplotlib inline\n",
    "from sklearn.linear_model import LinearRegression"
   ]
  },
  {
   "cell_type": "markdown",
   "metadata": {},
   "source": [
    "#### Polyfit"
   ]
  },
  {
   "cell_type": "code",
   "execution_count": null,
   "metadata": {},
   "outputs": [],
   "source": [
    "#https://github.com/ianmcloughlin/jupyter-teaching-notebooks/blob/master/simple-linear-regression.ipynb\n",
    "\n",
    "Polyfit = np.polyfit (df2.Speed_Mph,df2.Power_KWph,1)\n",
    "print ('Best Fit Line Values:\\n')\n",
    "print (\"- 'm' (slope) of 'Best Fit Line' is\", Polyfit[0] )\n",
    "print (\"- 'c' (co-efficient) of 'Best Fit Line' is\", Polyfit[1] )"
   ]
  },
  {
   "cell_type": "markdown",
   "metadata": {},
   "source": [
    "#### Alternative method of calculating the slope (m) and the co-efficient (c)"
   ]
  },
  {
   "cell_type": "code",
   "execution_count": null,
   "metadata": {},
   "outputs": [],
   "source": [
    "# First calculate the means (a.k.a. averages) of df2.Speed_Mph and df2.Power_KWph:\n",
    "df2.Speed_Mph_avg = np.mean(df2.Speed_Mph)\n",
    "df2.Power_KWph_avg = np.mean(df2.Power_KWph)\n",
    "\n",
    "# Subtract means from df2.Speed_Mph and df2.Power_KWph:\n",
    "df2.Speed_Mph_zero = df2.Speed_Mph - df2.Speed_Mph_avg\n",
    "df2.Power_KWph_zero = df2.Power_KWph - df2.Power_KWph_avg\n",
    "\n",
    "# The best m is found by the following calculation:\n",
    "m = np.sum(df2.Speed_Mph_zero * df2.Power_KWph_zero) / np.sum(df2.Speed_Mph_zero * df2.Speed_Mph_zero)\n",
    "\n",
    "# Use m from above to calculate the best c:\n",
    "c = df2.Power_KWph_avg - m * df2.Speed_Mph_avg\n",
    "\n",
    "print ('\\nBest Fit Line Values:\\n')\n",
    "print (\"- The slope of the 'Best Fit Line'(m)is\",(round(m,6)))\n",
    "print (\"- The value of y when x = 0 of the 'Best Fit' Line (c) is\",round(c,6),\"\\n\")\n"
   ]
  },
  {
   "cell_type": "markdown",
   "metadata": {},
   "source": [
    "#### Fitting the Model"
   ]
  },
  {
   "cell_type": "code",
   "execution_count": null,
   "metadata": {},
   "outputs": [],
   "source": [
    "print (\"\")\n",
    "plt.rcParams[\"figure.figsize\"] = (28,24)\n",
    "#plt.figure(figsize = (8, 6)) \n",
    "sns.set_style (\"whitegrid\")\n",
    "#plt.plot (df2.Speed_Mph,df2.Power_KWph,'y.', label = r\"Actual Data\")\n",
    "sns.relplot(x = \"Speed_Mph\", y = 'Power_KWph', palette=\"muted\",height = 7, data=df2)#use data including power outages\n",
    "plt.title(\"Speed vs Power\\n\\n\", fontsize = 16)\n",
    "plt.rcParams[\"axes.labelsize\"] = 14\n",
    "plt.xticks([0, 2, 4, 6,8,10,12,14,16,18,20,22,24,26], fontsize = 14)\n",
    "plt.yticks([0, 10,20,30,40,50,60,70,80,90,100,110,120], fontsize = 14)\n",
    "\n",
    "#Generate Trial Data to estimate the 'Best Fit Line'\n",
    "x = np.arange (0.0,25.0,(1/len(df2.Speed_Mph)*25))\n",
    "plt.plot (x, 5.5 * x + 0.5, 'b-', label = r\"Trial Best Fit 1:5.5x + 0.5\")\n",
    "plt.plot (x, 5 * x + 0.5, 'g-', label = r\"Trial Best Fit 2: 5x + 0.5\")\n",
    "plt.plot (x, 4 * x + 5, 'r-', label = r\"Trial Best Fit 3: 4x + 5\")\n",
    "\n",
    "#Use the Polyfit results to generate the 'Best Fit Line' \n",
    "y = Polyfit[0] * x + Polyfit[1]\n",
    "plt.plot (x, y, 'k.', label = r\"Actual Best Fit: 5.55x = 18.87\")# Plot the best fit line over the data points.\n",
    "plt.legend()\n",
    "plt.show()\n",
    "\n"
   ]
  },
  {
   "cell_type": "code",
   "execution_count": null,
   "metadata": {},
   "outputs": [],
   "source": [
    "#Check to make sure the length of the arrays are equal\n",
    "#print(len(df2.Speed_Mph),len(x))"
   ]
  },
  {
   "cell_type": "code",
   "execution_count": null,
   "metadata": {},
   "outputs": [],
   "source": [
    "#Best Fit Co-ordinates\n",
    "#print (list(zip(x,y)))"
   ]
  },
  {
   "cell_type": "markdown",
   "metadata": {},
   "source": [
    "#### Calculate the 'Cost' of the Lines Above"
   ]
  },
  {
   "cell_type": "code",
   "execution_count": null,
   "metadata": {},
   "outputs": [],
   "source": [
    "#cost = lambda m,c: np.sum([(df2.Power_KWph[i] - m * df2.Speed_Mph[i] - c)**2 for i in range(len(df2.Speed_Mph))]\n",
    "#print(\"Cost with m = \",m,\"and c =\",c,\":\",%8.2f % (cost(m, c)))"
   ]
  },
  {
   "cell_type": "code",
   "execution_count": null,
   "metadata": {},
   "outputs": [],
   "source": [
    "#cost 'Best Fit' = lambda Polyfit[0],Polyfit[1]: np.sum([(df2.Power_KWph[i] - m * df2.Speed_Mph[i] - c)**2 for i in range(df2.Speed_Mph.size)])\n",
    "#cost = np.sum([(df2.Power_KWph[i] - m * df2.Speed_Mph[i] - c)**2 for i in range(len(df2.Speed_Mph))])\n",
    "\n",
    "#print(\"Cost with m =\", Polyfit[0], \"and c =\", Polyfit[1],\"is\", cost)\n",
    "#print(\"Cost with m = Polyfit[0] and c = Polyfit[0]: %8.2f\" % (cost(Polyfit[0],  Polyfit[1])))\n",
    "#print(\"Cost with m = Polyfit[0] and c = Polyfit[0]:\" %8.2f\" % (cost(4.0, 5.0)))"
   ]
  },
  {
   "cell_type": "markdown",
   "metadata": {},
   "source": [
    "<BR>"
   ]
  },
  {
   "cell_type": "markdown",
   "metadata": {},
   "source": [
    "### Predict expected speed based on a Given Power\n",
    "***"
   ]
  },
  {
   "cell_type": "markdown",
   "metadata": {},
   "source": [
    "#### Using Numpy Poly1d Method"
   ]
  },
  {
   "cell_type": "code",
   "execution_count": null,
   "metadata": {},
   "outputs": [],
   "source": [
    "Predict = np.poly1d (Polyfit)\n",
    "#https://data36.com/linear-regression-in-python-numpy-polyfit/"
   ]
  },
  {
   "cell_type": "markdown",
   "metadata": {},
   "source": [
    "#### Insert Value for 'P' (Speed) to Predict Power Output"
   ]
  },
  {
   "cell_type": "code",
   "execution_count": null,
   "metadata": {},
   "outputs": [],
   "source": [
    "P = 6  #Value of Speed \n",
    "print (\"\\nThe Predicted Power Output for a Wind Speed of\",P,\"Mph is\",round(Predict(P),3),\"KWph\\n\")"
   ]
  },
  {
   "cell_type": "markdown",
   "metadata": {},
   "source": [
    "#### Alternative Method - Manual method using Polyfit Results:"
   ]
  },
  {
   "cell_type": "code",
   "execution_count": null,
   "metadata": {},
   "outputs": [],
   "source": [
    "y = Polyfit [0] * P + Polyfit [1]\n",
    "print (\"\\nThe Predicted Power Output for a Wind Speed of\",P,\"Mph is\",round(y,3),\"KWph\\n\")"
   ]
  },
  {
   "cell_type": "code",
   "execution_count": null,
   "metadata": {},
   "outputs": [],
   "source": []
  },
  {
   "cell_type": "code",
   "execution_count": null,
   "metadata": {},
   "outputs": [],
   "source": []
  },
  {
   "cell_type": "markdown",
   "metadata": {},
   "source": [
    "### End"
   ]
  },
  {
   "cell_type": "markdown",
   "metadata": {},
   "source": [
    "***"
   ]
  },
  {
   "cell_type": "code",
   "execution_count": null,
   "metadata": {},
   "outputs": [],
   "source": []
  },
  {
   "cell_type": "code",
   "execution_count": null,
   "metadata": {},
   "outputs": [],
   "source": []
  },
  {
   "cell_type": "markdown",
   "metadata": {},
   "source": [
    "#### End"
   ]
  }
 ],
 "metadata": {
  "kernelspec": {
   "display_name": "Python 3",
   "language": "python",
   "name": "python3"
  }
 },
 "nbformat": 4,
 "nbformat_minor": 4
}
